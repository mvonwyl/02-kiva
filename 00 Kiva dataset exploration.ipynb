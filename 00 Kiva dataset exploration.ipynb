{
 "cells": [
  {
   "cell_type": "markdown",
   "metadata": {},
   "source": [
    "# Kiva dataset exploration\n",
    "\n",
    "## Introduction\n",
    "Kiva.org is an online crowdfunding platform to extend financial services to poor and financially excluded people around the world. Kiva lenders have provided over $1 billion dollars in loans to over 2 million people. In order to set investment priorities, help inform lenders, and understand their target communities, knowing the level of poverty of each borrower is critical. However, this requires inference based on a limited set of information for each borrower.\n",
    "\n",
    "Kiva has provided a dataset of loans issued over the last two years, and participants are invited to use this data as well as source external public datasets to help Kiva build models for assessing borrower welfare levels.\n",
    "\n",
    "More on the data and task can be found on [Kaggle](https://www.kaggle.com/kiva/data-science-for-good-kiva-crowdfunding/home)\n",
    "\n",
    "I will use these data to practice my data science skills, especially with Pandas, matplotlib, scikit and, eventually, I'll build a Deep Learning Model.\n",
    "\n",
    "## Goals\n",
    "The following questions will try to be answered.\n",
    " + How is the total amount of spent? Which country receive the biggest amount on loan? Which type of projects are most funded? And within the most funded countries?\n",
    " + How is the money spread relative to the MPI?\n",
    " + What kind of features are most present for a loan (gender, group, ...), and if available, which ones are the most likely funded (haven't founded accepted / refused loan data yet)?\n",
    " + What trend are the lending trends?\n",
    " + Eventually writing a loan request generator just because reasons.\n",
    " \n",
    "## Plan\n",
    "We'll attack the problem by first exploring the data files on by one (on this document). Next we'll try answering the above questions on separated notebooks:\n",
    " + [How is the amount of loan spent?](http://localhost:8888/notebooks/01%20Loans%20by%20country%20exploration.ipynb)\n",
    "\n",
    "## Exploring Kiva's Data\n",
    "Let's introduce quickly the available files.\n",
    " + *kiva_loans.csv* (671K x 20) contains details loan informations.\n",
    " + *kiva_mpi_region_locations.csv* (2773 x 9) contains MPI (Global Multidimensional Poverty Index) by location and region.\n",
    " + *loan_theme_ids.csv* (779K x 4) Loan themes by ID\n",
    " + *loan_themes_by_region.csv* (15.7K x 21) Loan themes by region\n"
   ]
  },
  {
   "cell_type": "markdown",
   "metadata": {},
   "source": []
  },
  {
   "cell_type": "code",
   "execution_count": null,
   "metadata": {},
   "outputs": [],
   "source": []
  }
 ],
 "metadata": {
  "kernelspec": {
   "display_name": "Python 3",
   "language": "python",
   "name": "python3"
  },
  "language_info": {
   "codemirror_mode": {
    "name": "ipython",
    "version": 3
   },
   "file_extension": ".py",
   "mimetype": "text/x-python",
   "name": "python",
   "nbconvert_exporter": "python",
   "pygments_lexer": "ipython3",
   "version": "3.5.2"
  }
 },
 "nbformat": 4,
 "nbformat_minor": 2
}
